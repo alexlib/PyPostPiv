{
 "cells": [
  {
   "cell_type": "code",
   "execution_count": 1,
   "metadata": {},
   "outputs": [],
   "source": [
    "import pypostpiv as p3\n",
    "\n",
    "t1_path = r'/home/jc3hu/GitHub/PyPostPiv/test1/'\n",
    "t2_path = r'/home/jc3hu/GitHub/PyPostPiv/test2/'"
   ]
  },
  {
   "cell_type": "code",
   "execution_count": 4,
   "metadata": {},
   "outputs": [],
   "source": [
    "t1_field = p3.utilities.convert_vc7(t1_path, 0.01)\n",
    "t2_field = p3.utilities.convert_vc7(t2_path, 0.01)"
   ]
  }
 ],
 "metadata": {
  "kernelspec": {
   "display_name": "Python 3",
   "language": "python",
   "name": "python3"
  },
  "language_info": {
   "codemirror_mode": {
    "name": "ipython",
    "version": 3
   },
   "file_extension": ".py",
   "mimetype": "text/x-python",
   "name": "python",
   "nbconvert_exporter": "python",
   "pygments_lexer": "ipython3",
   "version": "3.6.2"
  }
 },
 "nbformat": 4,
 "nbformat_minor": 2
}
